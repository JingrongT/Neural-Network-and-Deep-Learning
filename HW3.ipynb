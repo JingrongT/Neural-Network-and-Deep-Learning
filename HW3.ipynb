{
 "cells": [
  {
   "cell_type": "code",
   "execution_count": 11,
   "metadata": {
    "colab": {},
    "colab_type": "code",
    "id": "dEtLdDhFRqEX"
   },
   "outputs": [],
   "source": [
    "from keras.datasets import fashion_mnist\n",
    "import numpy as np\n",
    "from keras.layers import Input, Dense, Conv2D, MaxPooling2D \n",
    "from keras.layers import UpSampling2D, Dropout, Activation, Flatten \n",
    "from keras.layers import LeakyReLU, LSTM, Conv1D, GlobalMaxPooling1D\n",
    "from keras.models import Model, Sequential\n",
    "from matplotlib import pyplot as plt\n",
    "from keras.utils import np_utils\n",
    "import keras\n",
    "from keras.applications import VGG16\n",
    "from keras.preprocessing.image import img_to_array, array_to_img\n",
    "from sklearn.model_selection import train_test_split\n",
    "from keras.applications.vgg16 import preprocess_input\n",
    "import pandas as pd\n",
    "from keras.layers.embeddings import Embedding\n",
    "from keras.callbacks import TensorBoard\n",
    "from keras.preprocessing import sequence\n",
    "from keras.preprocessing.text import Tokenizer\n",
    "from sklearn.utils import class_weight\n",
    "from sklearn.metrics import roc_curve\n",
    "from sklearn.metrics import auc"
   ]
  },
  {
   "cell_type": "code",
   "execution_count": 0,
   "metadata": {
    "colab": {},
    "colab_type": "code",
    "id": "CeFo0XdaRqEb"
   },
   "outputs": [],
   "source": [
    "(x_train, y_train), (x_test, y_test) = fashion_mnist.load_data()"
   ]
  },
  {
   "cell_type": "markdown",
   "metadata": {
    "colab_type": "text",
    "id": "PtcL-_Op15W-"
   },
   "source": [
    "We see that our training data contains 6,000 images of dimension 28x28, while our testing data contains 10,000 images of dimension 28x28. It is also in unit8 format (which we will change).\n"
   ]
  },
  {
   "cell_type": "code",
   "execution_count": 201,
   "metadata": {
    "colab": {
     "base_uri": "https://localhost:8080/",
     "height": 68
    },
    "colab_type": "code",
    "id": "X9c2hYb11usk",
    "outputId": "528b9bc5-87d5-4b9e-813f-dc2dc7aa4511"
   },
   "outputs": [
    {
     "name": "stdout",
     "output_type": "stream",
     "text": [
      "Train: (60000, 28, 28) (60000,)\n",
      "Test: (10000, 28, 28) (10000,)\n",
      "uint8\n"
     ]
    }
   ],
   "source": [
    "print('Train:', x_train.shape, y_train.shape)\n",
    "\n",
    "print('Test:', x_test.shape, y_test.shape)\n",
    "\n",
    "print(x_train.dtype)"
   ]
  },
  {
   "cell_type": "code",
   "execution_count": 0,
   "metadata": {
    "colab": {},
    "colab_type": "code",
    "id": "0Ykyrn-Kg-6k"
   },
   "outputs": [],
   "source": [
    "#rescale image pixels to values between 0 and 1\n",
    "x_train = x_train.astype('float32') / 255.\n",
    "x_test = x_test.astype('float32') / 255."
   ]
  },
  {
   "cell_type": "code",
   "execution_count": 0,
   "metadata": {
    "colab": {},
    "colab_type": "code",
    "id": "uufUJtJeUOAu"
   },
   "outputs": [],
   "source": [
    "# FOR 2.2\n",
    "#convert images to three channels\n",
    "train_X = np.stack([x_train] *3, axis = -1)\n",
    "test_X = np.stack([x_test] *3, axis = -1)\n",
    "train_X = train_X.reshape(-1, 28,28,3)\n",
    "test_X = test_X.reshape (-1,28,28,3)\n",
    "\n",
    "#resize the images to 48 x 48 for VGG16\n",
    "train_X = np.asarray([img_to_array(array_to_img(im, scale=False).resize((48,48))) for im in train_X])\n",
    "test_X = np.asarray([img_to_array(array_to_img(im, scale=False).resize((48,48))) for im in test_X])\n",
    "\n",
    "\n",
    "#converting labels to one hot encoded format\n",
    "train_Y_one_hot = np_utils.to_categorical(y_train)\n",
    "test_Y_one_hot = np_utils.to_categorical(y_test)\n",
    "\n",
    "#split train data as train and validation data\n",
    "train_X,valid_X,train_Label,valid_Label = train_test_split(train_X,\n",
    "                                                           train_Y_one_hot,\n",
    "                                                           test_size=0.2,\n",
    "                                                           random_state=13)"
   ]
  },
  {
   "cell_type": "code",
   "execution_count": 0,
   "metadata": {
    "colab": {},
    "colab_type": "code",
    "id": "HYMTkuL_UMX8"
   },
   "outputs": [],
   "source": [
    "# FOR 1\n",
    "#reshape data from 6,000 x 28 x 28 to single image dimension\n",
    "x_train = np.reshape(x_train, (len(x_train), 28, 28, 1))  \n",
    "x_test = np.reshape(x_test, (len(x_test), 28, 28, 1)) "
   ]
  },
  {
   "cell_type": "markdown",
   "metadata": {
    "colab_type": "text",
    "id": "jBxn2rP-kqE6"
   },
   "source": [
    "**1 Autoencoder**"
   ]
  },
  {
   "cell_type": "code",
   "execution_count": 0,
   "metadata": {
    "colab": {},
    "colab_type": "code",
    "id": "yHVRZogzg-3d"
   },
   "outputs": [],
   "source": [
    "input_img = Input(shape=(28, 28, 1))  \n",
    "\n",
    "#compress image for encoding:\n",
    "\n",
    "# 28 x 28 x 16 matrix\n",
    "x = Conv2D(16, kernel_size = (3, 3), activation='relu', padding='same')(input_img)\n",
    "# 14 x 14 x 16 matrix\n",
    "x = MaxPooling2D((2, 2), padding='same')(x)\n",
    "# 14 x 14 x 8 matrix\n",
    "x = Conv2D(8, kernel_size = (3, 3), activation='relu', padding='same')(x)\n",
    "# 7 x 7 x 8 matrix\n",
    "x = MaxPooling2D((2, 2), padding='same')(x)\n",
    "# 7 x 7 x 8 matrix\n",
    "x = Conv2D(8, kernel_size = (3, 3), activation='relu', padding='same')(x)\n",
    "\n",
    "#image is encoded as 4 x 4 x 8 matrix\n",
    "encoded = MaxPooling2D((2, 2), padding='same')(x)\n",
    "\n",
    "# 4 x 4 x 8 matrix\n",
    "x = Conv2D(8, kernel_size =  (3, 3), activation='relu', padding='same')(encoded)\n",
    "# 8 x 8 x 8 matrix\n",
    "x = UpSampling2D((2, 2))(x)\n",
    "# 8 x 8 x 8 matrix\n",
    "x = Conv2D(8, kernel_size = (3, 3), activation='relu', padding='same')(x)\n",
    "# 16 x 16 x 8 matrix\n",
    "x = UpSampling2D((2, 2))(x)\n",
    "# 14 x 14 x 16 matrix\n",
    "x = Conv2D(16, kernel_size = (3, 3), activation='relu')(x)\n",
    "# 28 x 28 x 16 matrix\n",
    "x = UpSampling2D((2, 2))(x)\n",
    "\n",
    "#image is decoded as 28 x 28 x 1 matrix\n",
    "decoded = Conv2D(1, kernel_size = (3, 3), activation='sigmoid', padding='same')(x)\n",
    "\n",
    "autoencoder = Model(input_img, decoded)\n",
    "autoencoder.compile(optimizer='adadelta', loss='binary_crossentropy')\n",
    "\n",
    "#we use sigmoid activation and binary cross-entropy loss because pixels have \n",
    "#values between 0 and 1"
   ]
  },
  {
   "cell_type": "markdown",
   "metadata": {
    "colab_type": "text",
    "id": "j0Wz5BJzpMfm"
   },
   "source": [
    "Over 10 epochs, the validation loss on the autoencoder improved from about 0.328 to about 0.295."
   ]
  },
  {
   "cell_type": "code",
   "execution_count": 11,
   "metadata": {
    "colab": {
     "base_uri": "https://localhost:8080/",
     "height": 391
    },
    "colab_type": "code",
    "id": "mnTzCGuxVdr4",
    "outputId": "54c12e52-3fca-49be-97cc-fdd22b63a62d"
   },
   "outputs": [
    {
     "name": "stdout",
     "output_type": "stream",
     "text": [
      "Train on 60000 samples, validate on 10000 samples\n",
      "Epoch 1/10\n",
      "60000/60000 [==============================] - 15s 248us/step - loss: 0.3457 - val_loss: 0.3282\n",
      "Epoch 2/10\n",
      "60000/60000 [==============================] - 12s 208us/step - loss: 0.3086 - val_loss: 0.3040\n",
      "Epoch 3/10\n",
      "60000/60000 [==============================] - 13s 216us/step - loss: 0.3015 - val_loss: 0.3043\n",
      "Epoch 4/10\n",
      "60000/60000 [==============================] - 12s 206us/step - loss: 0.2980 - val_loss: 0.2996\n",
      "Epoch 5/10\n",
      "60000/60000 [==============================] - 12s 208us/step - loss: 0.2956 - val_loss: 0.3013\n",
      "Epoch 6/10\n",
      "60000/60000 [==============================] - 12s 208us/step - loss: 0.2937 - val_loss: 0.2968\n",
      "Epoch 7/10\n",
      "60000/60000 [==============================] - 12s 208us/step - loss: 0.2923 - val_loss: 0.2917\n",
      "Epoch 8/10\n",
      "60000/60000 [==============================] - 12s 207us/step - loss: 0.2917 - val_loss: 0.2936\n",
      "Epoch 9/10\n",
      "60000/60000 [==============================] - 13s 210us/step - loss: 0.2907 - val_loss: 0.2949\n",
      "Epoch 10/10\n",
      "60000/60000 [==============================] - 12s 207us/step - loss: 0.2903 - val_loss: 0.2956\n"
     ]
    },
    {
     "data": {
      "text/plain": [
       "<keras.callbacks.History at 0x7fb6cc105a20>"
      ]
     },
     "execution_count": 11,
     "metadata": {
      "tags": []
     },
     "output_type": "execute_result"
    }
   ],
   "source": [
    "autoencoder.fit(x_train, x_train,\n",
    "                epochs = 10,\n",
    "                batch_size = 64,\n",
    "                shuffle=True,\n",
    "                validation_data=(x_test, x_test),\n",
    "                callbacks=[TensorBoard(log_dir='/tmp/autoencoder')])"
   ]
  },
  {
   "cell_type": "markdown",
   "metadata": {
    "colab_type": "text",
    "id": "NcE78hg3pWpx"
   },
   "source": [
    "The reconstructed images below show that the autoencoder was able to reproduce the general shapes of the clothin items, but could not reproduce nuances such as patterns on the shirts."
   ]
  },
  {
   "cell_type": "code",
   "execution_count": 12,
   "metadata": {
    "colab": {
     "base_uri": "https://localhost:8080/",
     "height": 244
    },
    "colab_type": "code",
    "id": "B3EliM14g-9x",
    "outputId": "6c607a36-ed7c-4280-fa30-0d8d781013a9"
   },
   "outputs": [
    {
     "data": {
      "image/png": "[encoded data removed]",
      "text/plain": [
       "<matplotlib.figure.Figure at 0x7fb6cce905c0>"
      ]
     },
     "metadata": {
      "tags": []
     },
     "output_type": "display_data"
    }
   ],
   "source": [
    "# Reconstructed images\n",
    "decoded_imgs = autoencoder.predict(x_test)\n",
    "\n",
    "n = 10\n",
    "plt.figure(figsize=(20, 4))\n",
    "for i in range(1,n):\n",
    "    # original\n",
    "    ax = plt.subplot(2, n, i)\n",
    "    plt.imshow(x_test[i].reshape(28, 28))\n",
    "    plt.gray()\n",
    "    ax.get_xaxis().set_visible(False)\n",
    "    ax.get_yaxis().set_visible(False)\n",
    "\n",
    "    # autoencoder reconstruction\n",
    "    ax = plt.subplot(2, n, i + n)\n",
    "    plt.imshow(decoded_imgs[i].reshape(28, 28))\n",
    "    plt.gray()\n",
    "    ax.get_xaxis().set_visible(False)\n",
    "    ax.get_yaxis().set_visible(False)\n",
    "plt.show()"
   ]
  },
  {
   "cell_type": "markdown",
   "metadata": {
    "colab_type": "text",
    "id": "1ReQrTtSvvke"
   },
   "source": [
    "**2 Image Classification **"
   ]
  },
  {
   "cell_type": "markdown",
   "metadata": {
    "colab_type": "text",
    "id": "Yi09weqE9crU"
   },
   "source": [
    "The data has 10 classes between 0 and 9, which describe the type of clothing each image represents."
   ]
  },
  {
   "cell_type": "code",
   "execution_count": 13,
   "metadata": {
    "colab": {
     "base_uri": "https://localhost:8080/",
     "height": 34
    },
    "colab_type": "code",
    "id": "FqQAqa9Q2Lyo",
    "outputId": "f21ae3e5-ed88-4928-c6b8-900f51555ccd"
   },
   "outputs": [
    {
     "name": "stdout",
     "output_type": "stream",
     "text": [
      "[0 1 2 3 4 5 6 7 8 9]\n"
     ]
    }
   ],
   "source": [
    "classes = np.unique(y_train)\n",
    "print(classes)"
   ]
  },
  {
   "cell_type": "code",
   "execution_count": 0,
   "metadata": {
    "colab": {},
    "colab_type": "code",
    "id": "cz4EoVnoTT52"
   },
   "outputs": [],
   "source": [
    "#convert classes to 10 dimension matrices (one-hot encoding)\n",
    "y_train = np_utils.to_categorical(y_train, 10)\n",
    "y_test = np_utils.to_categorical(y_test, 10)"
   ]
  },
  {
   "cell_type": "code",
   "execution_count": 0,
   "metadata": {
    "colab": {},
    "colab_type": "code",
    "id": "nlPODoZTKQpi"
   },
   "outputs": [],
   "source": [
    "train_x,valid_x,train_label,valid_label = train_test_split(x_train, y_train, test_size=0.2, random_state=13)"
   ]
  },
  {
   "cell_type": "markdown",
   "metadata": {
    "colab_type": "text",
    "id": "hm7Xa_3rhAAq"
   },
   "source": [
    "**2.1 Deep CNN**"
   ]
  },
  {
   "cell_type": "code",
   "execution_count": 0,
   "metadata": {
    "colab": {},
    "colab_type": "code",
    "id": "dF0oFCxpW-DB"
   },
   "outputs": [],
   "source": [
    "fashion_model = Sequential()\n",
    "\n",
    "'''\n",
    "I will use leaky ReLU because I read in some article somewhere that leaky \n",
    "ReLU corrects the dying ReLU problem over large gradients.\n",
    "\n",
    "I have chosen the kernels to be size 3x3 and the strides to be 1x1 to \n",
    "gradually sub-sample the inputs. I also chose a pool size of 2x2 to \n",
    "downsample gradually.\n",
    "\n",
    "I have chosen valid padding because the most important information in the image\n",
    "will likely be towards the center, not on the perimeter where valid padding will\n",
    "lose some information. \n",
    "\n",
    "For network depth, I chose two layers because I didn't want the model to get\n",
    "too complicated.\n",
    "\n",
    "'''\n",
    "fashion_model.add(Conv2D(32, kernel_size = (3, 3),\n",
    "                         activation='linear',\n",
    "                         input_shape=(28,28,1),\n",
    "                         strides=(1, 1),\n",
    "                         padding='valid'))\n",
    "fashion_model.add(LeakyReLU(alpha=0.1))\n",
    "fashion_model.add(MaxPooling2D((2, 2),padding='valid'))\n",
    "fashion_model.add(Dropout(0.25))\n",
    "\n",
    "\n",
    "fashion_model.add(Conv2D(64, kernel_size = (3, 3), \n",
    "                         activation='linear',\n",
    "                         strides=(1, 1),\n",
    "                         padding='valid'))\n",
    "fashion_model.add(LeakyReLU(alpha=0.1))\n",
    "fashion_model.add(MaxPooling2D(pool_size=(2, 2),padding='valid'))\n",
    "fashion_model.add(Dropout(0.25)) \n",
    "\n",
    "\n",
    "# fully connected layer\n",
    "fashion_model.add(Flatten())\n",
    "fashion_model.add(Dense(64, activation='linear'))\n",
    "fashion_model.add(LeakyReLU(alpha=0.5))\n",
    "fashion_model.add(Dropout(0.5))                 \n",
    "fashion_model.add(Dense(len(classes), activation='softmax'))"
   ]
  },
  {
   "cell_type": "markdown",
   "metadata": {
    "colab_type": "text",
    "id": "xzWW7HlAp1Zk"
   },
   "source": [
    "The summary of the model shows that we have a total of 121,930 parameters over 13 layers."
   ]
  },
  {
   "cell_type": "code",
   "execution_count": 17,
   "metadata": {
    "colab": {
     "base_uri": "https://localhost:8080/",
     "height": 578
    },
    "colab_type": "code",
    "id": "brAR4kvIkULM",
    "outputId": "d185ce10-accb-4f84-f882-4a263754dcf6"
   },
   "outputs": [
    {
     "name": "stdout",
     "output_type": "stream",
     "text": [
      "_________________________________________________________________\n",
      "Layer (type)                 Output Shape              Param #   \n",
      "=================================================================\n",
      "conv2d_8 (Conv2D)            (None, 26, 26, 32)        320       \n",
      "_________________________________________________________________\n",
      "leaky_re_lu_1 (LeakyReLU)    (None, 26, 26, 32)        0         \n",
      "_________________________________________________________________\n",
      "max_pooling2d_4 (MaxPooling2 (None, 13, 13, 32)        0         \n",
      "_________________________________________________________________\n",
      "dropout_1 (Dropout)          (None, 13, 13, 32)        0         \n",
      "_________________________________________________________________\n",
      "conv2d_9 (Conv2D)            (None, 11, 11, 64)        18496     \n",
      "_________________________________________________________________\n",
      "leaky_re_lu_2 (LeakyReLU)    (None, 11, 11, 64)        0         \n",
      "_________________________________________________________________\n",
      "max_pooling2d_5 (MaxPooling2 (None, 5, 5, 64)          0         \n",
      "_________________________________________________________________\n",
      "dropout_2 (Dropout)          (None, 5, 5, 64)          0         \n",
      "_________________________________________________________________\n",
      "flatten_1 (Flatten)          (None, 1600)              0         \n",
      "_________________________________________________________________\n",
      "dense_1 (Dense)              (None, 64)                102464    \n",
      "_________________________________________________________________\n",
      "leaky_re_lu_3 (LeakyReLU)    (None, 64)                0         \n",
      "_________________________________________________________________\n",
      "dropout_3 (Dropout)          (None, 64)                0         \n",
      "_________________________________________________________________\n",
      "dense_2 (Dense)              (None, 10)                650       \n",
      "=================================================================\n",
      "Total params: 121,930\n",
      "Trainable params: 121,930\n",
      "Non-trainable params: 0\n",
      "_________________________________________________________________\n"
     ]
    }
   ],
   "source": [
    "fashion_model.compile(loss= 'categorical_crossentropy', optimizer = 'Adam', metrics=['accuracy'])\n",
    "fashion_model.summary()"
   ]
  },
  {
   "cell_type": "code",
   "execution_count": 18,
   "metadata": {
    "colab": {
     "base_uri": "https://localhost:8080/",
     "height": 374
    },
    "colab_type": "code",
    "id": "2FHGcozHJSGy",
    "outputId": "6107f20e-b294-4c75-dfcb-21def8000602"
   },
   "outputs": [
    {
     "name": "stdout",
     "output_type": "stream",
     "text": [
      "Train on 48000 samples, validate on 12000 samples\n",
      "Epoch 1/10\n",
      "48000/48000 [==============================] - 11s 221us/step - loss: 0.6613 - acc: 0.7621 - val_loss: 0.4211 - val_acc: 0.8482\n",
      "Epoch 2/10\n",
      "48000/48000 [==============================] - 10s 200us/step - loss: 0.4401 - acc: 0.8433 - val_loss: 0.3538 - val_acc: 0.8735\n",
      "Epoch 3/10\n",
      "48000/48000 [==============================] - 10s 200us/step - loss: 0.3921 - acc: 0.8603 - val_loss: 0.3229 - val_acc: 0.8872\n",
      "Epoch 4/10\n",
      "48000/48000 [==============================] - 10s 201us/step - loss: 0.3564 - acc: 0.8746 - val_loss: 0.3094 - val_acc: 0.8863\n",
      "Epoch 5/10\n",
      "48000/48000 [==============================] - 10s 200us/step - loss: 0.3451 - acc: 0.8762 - val_loss: 0.2968 - val_acc: 0.8936\n",
      "Epoch 6/10\n",
      "48000/48000 [==============================] - 10s 199us/step - loss: 0.3278 - acc: 0.8835 - val_loss: 0.2978 - val_acc: 0.8886\n",
      "Epoch 7/10\n",
      "48000/48000 [==============================] - 10s 199us/step - loss: 0.3178 - acc: 0.8860 - val_loss: 0.2940 - val_acc: 0.8948\n",
      "Epoch 8/10\n",
      "48000/48000 [==============================] - 10s 199us/step - loss: 0.3074 - acc: 0.8890 - val_loss: 0.3119 - val_acc: 0.8858\n",
      "Epoch 9/10\n",
      "48000/48000 [==============================] - 10s 200us/step - loss: 0.3010 - acc: 0.8910 - val_loss: 0.2664 - val_acc: 0.9040\n",
      "Epoch 10/10\n",
      "48000/48000 [==============================] - 10s 199us/step - loss: 0.2937 - acc: 0.8931 - val_loss: 0.2931 - val_acc: 0.8923\n"
     ]
    }
   ],
   "source": [
    "fashion_train = fashion_model.fit(train_x, train_label, batch_size = 64,\n",
    "                                  epochs = 10,verbose=1,validation_data=(valid_x, valid_label))"
   ]
  },
  {
   "cell_type": "code",
   "execution_count": 0,
   "metadata": {
    "colab": {},
    "colab_type": "code",
    "id": "0Q2hzLsBJSoN"
   },
   "outputs": [],
   "source": [
    "test_eval = fashion_model.evaluate(x_test, y_test, verbose=0)"
   ]
  },
  {
   "cell_type": "markdown",
   "metadata": {
    "colab_type": "text",
    "id": "SrXdbir2qlMl"
   },
   "source": [
    "Over 10 epochs, the model improved from a validation loss and accuracy of about 0.421 and 0.848, to about 0.293 and 0.892, respectively. The model also performed better in terms of accuracy on the validation set than the training set, suggesting the model was not overfitting."
   ]
  },
  {
   "cell_type": "markdown",
   "metadata": {
    "colab_type": "text",
    "id": "6WfZ6NFukgea"
   },
   "source": [
    "**2.2 Transfer Learning**"
   ]
  },
  {
   "cell_type": "markdown",
   "metadata": {
    "colab_type": "text",
    "id": "SK7W_-w1rgbb"
   },
   "source": [
    "The data has already been set up into three channels for VGG16."
   ]
  },
  {
   "cell_type": "markdown",
   "metadata": {
    "colab_type": "text",
    "id": "KQB_KR_ar1dW"
   },
   "source": [
    "The convolutional base has a total of 14,714,688 parameters over 19 layers."
   ]
  },
  {
   "cell_type": "code",
   "execution_count": 204,
   "metadata": {
    "colab": {
     "base_uri": "https://localhost:8080/",
     "height": 782
    },
    "colab_type": "code",
    "id": "oM6Oa0M-W-Gd",
    "outputId": "f7946dfb-1330-4191-c683-153926355cd5"
   },
   "outputs": [
    {
     "name": "stdout",
     "output_type": "stream",
     "text": [
      "_________________________________________________________________\n",
      "Layer (type)                 Output Shape              Param #   \n",
      "=================================================================\n",
      "input_3 (InputLayer)         (None, 48, 48, 3)         0         \n",
      "_________________________________________________________________\n",
      "block1_conv1 (Conv2D)        (None, 48, 48, 64)        1792      \n",
      "_________________________________________________________________\n",
      "block1_conv2 (Conv2D)        (None, 48, 48, 64)        36928     \n",
      "_________________________________________________________________\n",
      "block1_pool (MaxPooling2D)   (None, 24, 24, 64)        0         \n",
      "_________________________________________________________________\n",
      "block2_conv1 (Conv2D)        (None, 24, 24, 128)       73856     \n",
      "_________________________________________________________________\n",
      "block2_conv2 (Conv2D)        (None, 24, 24, 128)       147584    \n",
      "_________________________________________________________________\n",
      "block2_pool (MaxPooling2D)   (None, 12, 12, 128)       0         \n",
      "_________________________________________________________________\n",
      "block3_conv1 (Conv2D)        (None, 12, 12, 256)       295168    \n",
      "_________________________________________________________________\n",
      "block3_conv2 (Conv2D)        (None, 12, 12, 256)       590080    \n",
      "_________________________________________________________________\n",
      "block3_conv3 (Conv2D)        (None, 12, 12, 256)       590080    \n",
      "_________________________________________________________________\n",
      "block3_pool (MaxPooling2D)   (None, 6, 6, 256)         0         \n",
      "_________________________________________________________________\n",
      "block4_conv1 (Conv2D)        (None, 6, 6, 512)         1180160   \n",
      "_________________________________________________________________\n",
      "block4_conv2 (Conv2D)        (None, 6, 6, 512)         2359808   \n",
      "_________________________________________________________________\n",
      "block4_conv3 (Conv2D)        (None, 6, 6, 512)         2359808   \n",
      "_________________________________________________________________\n",
      "block4_pool (MaxPooling2D)   (None, 3, 3, 512)         0         \n",
      "_________________________________________________________________\n",
      "block5_conv1 (Conv2D)        (None, 3, 3, 512)         2359808   \n",
      "_________________________________________________________________\n",
      "block5_conv2 (Conv2D)        (None, 3, 3, 512)         2359808   \n",
      "_________________________________________________________________\n",
      "block5_conv3 (Conv2D)        (None, 3, 3, 512)         2359808   \n",
      "_________________________________________________________________\n",
      "block5_pool (MaxPooling2D)   (None, 1, 1, 512)         0         \n",
      "=================================================================\n",
      "Total params: 14,714,688\n",
      "Trainable params: 0\n",
      "Non-trainable params: 14,714,688\n",
      "_________________________________________________________________\n"
     ]
    }
   ],
   "source": [
    "conv_base = VGG16(weights=\"imagenet\", include_top=False, input_shape=(48, 48, 3))\n",
    "conv_base.trainable = False\n",
    "conv_base.summary()"
   ]
  },
  {
   "cell_type": "code",
   "execution_count": 205,
   "metadata": {
    "colab": {
     "base_uri": "https://localhost:8080/",
     "height": 68
    },
    "colab_type": "code",
    "id": "V54f1HeTZIJT",
    "outputId": "2bac4464-5c03-4dd3-c0cb-66a5e0507a1e"
   },
   "outputs": [
    {
     "name": "stdout",
     "output_type": "stream",
     "text": [
      "48000/48000 [==============================] - 39s 804us/step\n",
      "10000/10000 [==============================] - 8s 797us/step\n",
      "12000/12000 [==============================] - 9s 786us/step\n"
     ]
    }
   ],
   "source": [
    "#extract features from convolutional base\n",
    "train_features = conv_base.predict(np.array(train_X), batch_size=32, verbose=1)\n",
    "test_features = conv_base.predict(np.array(test_X), batch_size=32, verbose=1)\n",
    "val_features = conv_base.predict(np.array(valid_X), batch_size=32, verbose=1)"
   ]
  },
  {
   "cell_type": "code",
   "execution_count": 0,
   "metadata": {
    "colab": {},
    "colab_type": "code",
    "id": "TttwIkSVZIMb"
   },
   "outputs": [],
   "source": [
    "#flatten extracted features\n",
    "train_features_flat = np.reshape(train_features, (48000, 1*1*512))\n",
    "test_features_flat = np.reshape(test_features, (10000, 1*1*512))\n",
    "val_features_flat = np.reshape(val_features, (12000, 1*1*512))"
   ]
  },
  {
   "cell_type": "code",
   "execution_count": 0,
   "metadata": {
    "colab": {},
    "colab_type": "code",
    "id": "xJYBM0RlNo3y"
   },
   "outputs": [],
   "source": [
    "model = Sequential()\n",
    "model.add(Dense(512, activation='relu', input_dim=(1*1*512)))\n",
    "model.add(LeakyReLU(alpha=0.1))\n",
    "model.add(Dense(len(classes), activation='softmax'))"
   ]
  },
  {
   "cell_type": "markdown",
   "metadata": {
    "colab_type": "text",
    "id": "NW1fkkwusqn-"
   },
   "source": [
    "Our model with only three layers has a total of 267,786 parameters."
   ]
  },
  {
   "cell_type": "code",
   "execution_count": 208,
   "metadata": {
    "colab": {
     "base_uri": "https://localhost:8080/",
     "height": 238
    },
    "colab_type": "code",
    "id": "QgiEvO47W-JJ",
    "outputId": "90b5ed66-06c2-4268-fb38-314292facd5e"
   },
   "outputs": [
    {
     "name": "stdout",
     "output_type": "stream",
     "text": [
      "_________________________________________________________________\n",
      "Layer (type)                 Output Shape              Param #   \n",
      "=================================================================\n",
      "dense_25 (Dense)             (None, 512)               262656    \n",
      "_________________________________________________________________\n",
      "leaky_re_lu_6 (LeakyReLU)    (None, 512)               0         \n",
      "_________________________________________________________________\n",
      "dense_26 (Dense)             (None, 10)                5130      \n",
      "=================================================================\n",
      "Total params: 267,786\n",
      "Trainable params: 267,786\n",
      "Non-trainable params: 0\n",
      "_________________________________________________________________\n"
     ]
    }
   ],
   "source": [
    "model.summary()"
   ]
  },
  {
   "cell_type": "code",
   "execution_count": 0,
   "metadata": {
    "colab": {},
    "colab_type": "code",
    "id": "OyesKwLAPn6f"
   },
   "outputs": [],
   "source": [
    "model.compile(loss=\"categorical_crossentropy\", optimizer = 'Adam',metrics=[\"accuracy\"])"
   ]
  },
  {
   "cell_type": "code",
   "execution_count": 210,
   "metadata": {
    "colab": {
     "base_uri": "https://localhost:8080/",
     "height": 374
    },
    "colab_type": "code",
    "id": "Ks5i35wkPn9F",
    "outputId": "46b5ff32-aada-4a12-b6a4-15d0d70a6b73"
   },
   "outputs": [
    {
     "name": "stdout",
     "output_type": "stream",
     "text": [
      "Train on 48000 samples, validate on 12000 samples\n",
      "Epoch 1/10\n",
      "48000/48000 [==============================] - 10s 206us/step - loss: 1.8395 - acc: 0.3279 - val_loss: 1.7393 - val_acc: 0.3663\n",
      "Epoch 2/10\n",
      "48000/48000 [==============================] - 9s 184us/step - loss: 1.7025 - acc: 0.3784 - val_loss: 1.6796 - val_acc: 0.3915\n",
      "Epoch 3/10\n",
      "48000/48000 [==============================] - 9s 185us/step - loss: 1.6627 - acc: 0.3882 - val_loss: 1.6479 - val_acc: 0.3987\n",
      "Epoch 4/10\n",
      "48000/48000 [==============================] - 9s 185us/step - loss: 1.6390 - acc: 0.3962 - val_loss: 1.6304 - val_acc: 0.4035\n",
      "Epoch 5/10\n",
      "48000/48000 [==============================] - 9s 184us/step - loss: 1.6202 - acc: 0.4021 - val_loss: 1.6420 - val_acc: 0.4016\n",
      "Epoch 6/10\n",
      "48000/48000 [==============================] - 9s 186us/step - loss: 1.6060 - acc: 0.4071 - val_loss: 1.6336 - val_acc: 0.3953\n",
      "Epoch 7/10\n",
      "48000/48000 [==============================] - 9s 186us/step - loss: 1.5945 - acc: 0.4121 - val_loss: 1.6054 - val_acc: 0.4139\n",
      "Epoch 8/10\n",
      "48000/48000 [==============================] - 9s 187us/step - loss: 1.5862 - acc: 0.4132 - val_loss: 1.6122 - val_acc: 0.4153\n",
      "Epoch 9/10\n",
      "48000/48000 [==============================] - 9s 184us/step - loss: 1.5800 - acc: 0.4150 - val_loss: 1.6059 - val_acc: 0.4125\n",
      "Epoch 10/10\n",
      "48000/48000 [==============================] - 9s 185us/step - loss: 1.5725 - acc: 0.4190 - val_loss: 1.5963 - val_acc: 0.4128\n"
     ]
    }
   ],
   "source": [
    "#train model with convolutional base features\n",
    "trans_model = model.fit(\n",
    "    train_features_flat,\n",
    "    train_Label,\n",
    "    epochs=10,\n",
    "    validation_data=(val_features_flat, valid_Label))"
   ]
  },
  {
   "cell_type": "markdown",
   "metadata": {
    "colab_type": "text",
    "id": "l7FeY-wYvH_X"
   },
   "source": [
    "The transfer learning model improved over 10 epochs from a validation loss and accuracy of about 1.739 and 0.366 to about 1.596 and 0.413, respectively. The training losses and accuracies are similarly poor. Overall, this model performed much worse than the deep CNN in the previous part. \n",
    "\n",
    "\n"
   ]
  },
  {
   "cell_type": "markdown",
   "metadata": {
    "colab_type": "text",
    "id": "umizuscivngN"
   },
   "source": [
    "**3 Text Classification**"
   ]
  },
  {
   "cell_type": "code",
   "execution_count": 3,
   "metadata": {
    "colab": {},
    "colab_type": "code",
    "id": "jZf9wOafsuuR"
   },
   "outputs": [
    {
     "name": "stderr",
     "output_type": "stream",
     "text": [
      "[nltk_data] Downloading package stopwords to\n",
      "[nltk_data]     /Users/tianjingrong/nltk_data...\n",
      "[nltk_data]   Unzipping corpora/stopwords.zip.\n",
      "[nltk_data] Downloading package wordnet to\n",
      "[nltk_data]     /Users/tianjingrong/nltk_data...\n",
      "[nltk_data]   Unzipping corpora/wordnet.zip.\n",
      "[nltk_data] Downloading package punkt to\n",
      "[nltk_data]     /Users/tianjingrong/nltk_data...\n",
      "[nltk_data]   Unzipping tokenizers/punkt.zip.\n"
     ]
    },
    {
     "data": {
      "text/plain": [
       "True"
      ]
     },
     "execution_count": 3,
     "metadata": {},
     "output_type": "execute_result"
    }
   ],
   "source": [
    "import pandas as pd\n",
    "import nltk\n",
    "import collections\n",
    "from nltk.util import ngrams\n",
    "from nltk.tokenize import word_tokenize\n",
    "from nltk.stem.porter import PorterStemmer\n",
    "from nltk.stem import WordNetLemmatizer\n",
    "from sklearn.model_selection import train_test_split\n",
    "from keras.applications.vgg16 import preprocess_input\n",
    "from keras.layers.embeddings import Embedding\n",
    "from keras.layers import Input, Dense, Dropout, Activation, Flatten, GlobalMaxPooling1D, LSTM\n",
    "from keras.callbacks import TensorBoard\n",
    "from keras.preprocessing import sequence\n",
    "from keras.preprocessing.text import Tokenizer\n",
    "from sklearn.utils import class_weight\n",
    "from keras.layers import LSTM, Conv1D, GlobalMaxPooling1D\n",
    "import regex\n",
    "from nltk.corpus import stopwords\n",
    "import gensim\n",
    "from gensim.models import Word2Vec\n",
    "from tensorflow.keras.preprocessing import sequence\n",
    "\n",
    "nltk.download('stopwords')\n",
    "nltk.download('wordnet')\n",
    "nltk.download('punkt')"
   ]
  },
  {
   "cell_type": "code",
   "execution_count": 5,
   "metadata": {
    "colab": {},
    "colab_type": "code",
    "id": "Xv-bZmExYVUA"
   },
   "outputs": [],
   "source": [
    "import re\n",
    "tweets = pd.read_csv('tweets_with_labels.csv', sep = '\\t')\n",
    "\n",
    "# clean tweets\n",
    "stopWords = set(stopwords.words('english'))\n",
    "stemmer = PorterStemmer()\n",
    "lemmatizer = WordNetLemmatizer()\n",
    "\n",
    "def preprocess_tweets(tweet):\n",
    "    tweet = re.sub(\"@mention\", \"\",tweet)\n",
    "    tweet = re.sub(\"{link}\", \"\",tweet)\n",
    "    tweet = re.sub(\"[^A-Za-z]\",\" \",tweet)\n",
    "    tweet = re.sub(r'\\bRT\\b', '', tweet)\n",
    "    tweet = re.sub(\"\\s+\",\" \",tweet)\n",
    "    tokens = word_tokenize(tweet)\n",
    "    words = [word for word in tokens if word not in stopWords]\n",
    "    words = [stemmer.stem(w).strip(\"'\") for w in words]\n",
    "    words = [lemmatizer.lemmatize(w, pos=\"a\") for w in words]\n",
    "    words = [word for word in words if len(word)!=1]\n",
    "    final_tweet = ' '.join(words)\n",
    "    return final_tweet\n",
    "\n",
    "new_tweet = [preprocess_tweets(x) for x in list(tweets.tweet)]\n",
    "tweets['new_tweets'] = new_tweet"
   ]
  },
  {
   "cell_type": "code",
   "execution_count": 7,
   "metadata": {
    "colab": {},
    "colab_type": "code",
    "id": "GP-EiC7gc1uw"
   },
   "outputs": [],
   "source": [
    "token = [word_tokenize(x) for x in list(tweets.new_tweets)]\n",
    "\n",
    "# clean out empty new_tweets by removing them\n",
    "remove_lst=[]\n",
    "for w in token:\n",
    "    remove_lst.append(len(w))\n",
    "bad_idx = [n for n,x in enumerate(remove_lst) if x == 0]\n",
    "tweets_updated = tweets.drop(bad_idx)\n",
    "\n",
    "# preprocess finished and define X and y for train test split\n",
    "\n",
    "X = [word_tokenize(x) for x in list(tweets_updated['new_tweets'])]\n",
    "\n",
    "# label y for any k1 to k15 not equal to 0\n",
    "label = tweets_updated.loc[:,'k1':'k15']\n",
    "label[tweets_updated != 0] = 1\n",
    "y = label.values\n",
    "\n",
    "X_train, X_test, y_train, y_test = train_test_split(X, y, test_size=0.3, random_state=13)"
   ]
  },
  {
   "cell_type": "code",
   "execution_count": 8,
   "metadata": {
    "colab": {},
    "colab_type": "code",
    "id": "pOWKyP_bwAQD"
   },
   "outputs": [
    {
     "name": "stdout",
     "output_type": "stream",
     "text": [
      "X_train shape:  54551\n",
      "X_test shape:  23379\n",
      "y_train shape:  (54551, 15)\n",
      "y_test shape:  (23379, 15)\n"
     ]
    }
   ],
   "source": [
    "print('X_train shape: ', len(X_train))\n",
    "print('X_test shape: ', len(X_test))\n",
    "print('y_train shape: ', y_train.shape)\n",
    "print('y_test shape: ', y_test.shape)"
   ]
  },
  {
   "cell_type": "code",
   "execution_count": 9,
   "metadata": {
    "colab": {},
    "colab_type": "code",
    "id": "18yzh2T2wAS6"
   },
   "outputs": [],
   "source": [
    "# padding token sequense to max length of 40\n",
    "X_train_padded = sequence.pad_sequences(X_train, maxlen=40, padding=\"post\", truncating=\"post\", value='_pad_',dtype=object)\n",
    "X_test_padded = sequence.pad_sequences(X_test, maxlen=40, padding=\"post\", truncating=\"post\", value='_pad_',dtype=object)\n",
    "\n",
    "train_corpus = list(tweets_updated.new_tweets)\n",
    "train_cor_tk = [word_tokenize(x) for x in train_corpus]\n",
    "corpus_padded = sequence.pad_sequences(train_cor_tk, maxlen=40,padding=\"post\", truncating=\"post\", value='_pad_',dtype=object)\n",
    "\n",
    "corpus_padded = corpus_padded.tolist()\n",
    "X_train_padded = X_train_padded.tolist()\n",
    "X_test_padded = X_test_padded.tolist()"
   ]
  },
  {
   "cell_type": "code",
   "execution_count": 12,
   "metadata": {
    "colab_type": "text",
    "id": "_z0bnbFjlw6_"
   },
   "outputs": [
    {
     "name": "stderr",
     "output_type": "stream",
     "text": [
      "/Users/tianjingrong/anaconda3/lib/python3.6/site-packages/ipykernel_launcher.py:10: DeprecationWarning: Call to deprecated `__getitem__` (Method will be removed in 4.0.0, use self.wv.__getitem__() instead).\n",
      "  # Remove the CWD from sys.path while we load stuff.\n",
      "/Users/tianjingrong/anaconda3/lib/python3.6/site-packages/ipykernel_launcher.py:15: DeprecationWarning: Call to deprecated `__getitem__` (Method will be removed in 4.0.0, use self.wv.__getitem__() instead).\n",
      "  from ipykernel import kernelapp as app\n"
     ]
    },
    {
     "name": "stdout",
     "output_type": "stream",
     "text": [
      "X_train_vec shape:  (54551, 40, 20)\n",
      "X_test_vec shape:  (23379, 40, 20)\n"
     ]
    }
   ],
   "source": [
    "#  train word2vec and vectorizing training set and test set \n",
    "w2v_model = Word2Vec(corpus_padded, min_count=1, size = 20, workers=1, window=3)\n",
    "\n",
    "# vector with size train/test, maxlen = 40 \n",
    "X_train_vec = np.empty([len(X_train), 40, 20])\n",
    "X_test_vec = np.empty([len(X_test), 40, 20])\n",
    "\n",
    "idx_train = 0\n",
    "for w in X_train_padded:\n",
    "    X_train_vec[idx_train, :, :] = w2v_model[w]\n",
    "    idx_train += 1\n",
    "\n",
    "idx_test = 0\n",
    "for w in X_test_padded:\n",
    "    X_test_vec[idx_test,:,:] = w2v_model[w]\n",
    "    idx_test += 1\n",
    "\n",
    "print('X_train_vec shape: ', X_train_vec.shape)\n",
    "print('X_test_vec shape: ', X_test_vec.shape)"
   ]
  },
  {
   "cell_type": "code",
   "execution_count": 13,
   "metadata": {
    "colab": {},
    "colab_type": "code",
    "id": "YKUsXFzRPn_u"
   },
   "outputs": [
    {
     "name": "stdout",
     "output_type": "stream",
     "text": [
      "Train on 54551 samples, validate on 23379 samples\n",
      "Epoch 1/10\n",
      "54551/54551 [==============================] - 49s 902us/step - loss: 0.3788 - accuracy: 0.8480 - val_loss: 0.3219 - val_accuracy: 0.8748\n",
      "Epoch 2/10\n",
      "54551/54551 [==============================] - 46s 847us/step - loss: 0.3306 - accuracy: 0.8731 - val_loss: 0.3210 - val_accuracy: 0.8748\n",
      "Epoch 3/10\n",
      "54551/54551 [==============================] - 50s 919us/step - loss: 0.3272 - accuracy: 0.8739 - val_loss: 0.3209 - val_accuracy: 0.8748\n",
      "Epoch 4/10\n",
      "54551/54551 [==============================] - 44s 809us/step - loss: 0.3228 - accuracy: 0.8744 - val_loss: 0.3073 - val_accuracy: 0.8748\n",
      "Epoch 5/10\n",
      "54551/54551 [==============================] - 45s 822us/step - loss: 0.2926 - accuracy: 0.8853 - val_loss: 0.2498 - val_accuracy: 0.9018\n",
      "Epoch 6/10\n",
      "54551/54551 [==============================] - 43s 793us/step - loss: 0.2204 - accuracy: 0.9181 - val_loss: 0.1843 - val_accuracy: 0.9308\n",
      "Epoch 7/10\n",
      "54551/54551 [==============================] - 46s 843us/step - loss: 0.1897 - accuracy: 0.9320 - val_loss: 0.1713 - val_accuracy: 0.9369\n",
      "Epoch 8/10\n",
      "54551/54551 [==============================] - 44s 810us/step - loss: 0.1787 - accuracy: 0.9365 - val_loss: 0.1675 - val_accuracy: 0.9397\n",
      "Epoch 9/10\n",
      "54551/54551 [==============================] - 43s 796us/step - loss: 0.1724 - accuracy: 0.9389 - val_loss: 0.1583 - val_accuracy: 0.9423\n",
      "Epoch 10/10\n",
      "54551/54551 [==============================] - 44s 804us/step - loss: 0.1675 - accuracy: 0.9412 - val_loss: 0.1558 - val_accuracy: 0.9439\n"
     ]
    }
   ],
   "source": [
    "#  Build LSTM model\n",
    "model_rnn = Sequential()\n",
    "model_rnn.add(LSTM(128, input_shape = (40, 20)))\n",
    "model_rnn.add(Dense(128, activation = 'relu'))\n",
    "model_rnn.add(Dropout(0.2))\n",
    "model_rnn.add(Dense(64, activation = 'relu'))\n",
    "model_rnn.add(Dropout(0.2))\n",
    "model_rnn.add(Dense(15, activation ='sigmoid'))\n",
    "\n",
    "model_rnn.compile(loss='binary_crossentropy', optimizer='adam',metrics=['accuracy'])\n",
    "\n",
    "history = model_rnn.fit(X_train_vec, y_train,\n",
    "                        epochs=10, batch_size=500,\n",
    "                        validation_data=(X_test_vec, y_test))"
   ]
  },
  {
   "cell_type": "code",
   "execution_count": 19,
   "metadata": {
    "colab": {
     "base_uri": "https://localhost:8080/",
     "height": 340
    },
    "colab_type": "code",
    "id": "dYM3jdXNcGTo",
    "outputId": "0a729989-a22a-41cb-e795-f09ec9fc9dd3"
   },
   "outputs": [],
   "source": [
    "#  evaluate the model\n",
    "score = model_rnn.evaluate(X_test_vec, y_test, batch_size=64, verbose = 0)"
   ]
  },
  {
   "cell_type": "code",
   "execution_count": 25,
   "metadata": {
    "colab": {},
    "colab_type": "code",
    "id": "eQ_voAlJeu32"
   },
   "outputs": [
    {
     "name": "stdout",
     "output_type": "stream",
     "text": [
      "Train loss:  0.1674645992722844\n",
      "Train accuracy:  0.94115615\n",
      "Test loss:  0.1558494813049659\n",
      "Test accuracy:  0.9439318776130676\n"
     ]
    }
   ],
   "source": [
    "from sklearn import metrics\n",
    "import matplotlib.pyplot as plt\n",
    "\n",
    "print('Train loss: ', history.history['loss'][9]) \n",
    "print('Train accuracy: ', history.history['accuracy'][9])\n",
    "\n",
    "print('Test loss: ', score[0])\n",
    "print('Test accuracy: ', score[1])"
   ]
  },
  {
   "cell_type": "markdown",
   "metadata": {
    "colab": {
     "base_uri": "https://localhost:8080/",
     "height": 391
    },
    "colab_type": "code",
    "id": "SBSv51MgZISb",
    "outputId": "bf7db292-da8c-4247-bce8-5fcdd5c70e2d"
   },
   "source": [
    "### 3.2 1D CNN"
   ]
  },
  {
   "cell_type": "code",
   "execution_count": 26,
   "metadata": {
    "colab": {},
    "colab_type": "code",
    "id": "KD7iUejOW-Lk"
   },
   "outputs": [
    {
     "name": "stdout",
     "output_type": "stream",
     "text": [
      "Train on 54551 samples, validate on 23379 samples\n",
      "Epoch 1/10\n",
      "54551/54551 [==============================] - 10s 175us/step - loss: 0.2326 - accuracy: 0.9147 - val_loss: 0.1707 - val_accuracy: 0.9378\n",
      "Epoch 2/10\n",
      "54551/54551 [==============================] - 6s 119us/step - loss: 0.1769 - accuracy: 0.9381 - val_loss: 0.1594 - val_accuracy: 0.9424\n",
      "Epoch 3/10\n",
      "54551/54551 [==============================] - 6s 104us/step - loss: 0.1686 - accuracy: 0.9409 - val_loss: 0.1551 - val_accuracy: 0.9444\n",
      "Epoch 4/10\n",
      "54551/54551 [==============================] - 6s 108us/step - loss: 0.1643 - accuracy: 0.9423 - val_loss: 0.1543 - val_accuracy: 0.9448\n",
      "Epoch 5/10\n",
      "54551/54551 [==============================] - 5s 94us/step - loss: 0.1613 - accuracy: 0.9431 - val_loss: 0.1519 - val_accuracy: 0.9452\n",
      "Epoch 6/10\n",
      "54551/54551 [==============================] - 7s 123us/step - loss: 0.1589 - accuracy: 0.9437 - val_loss: 0.1503 - val_accuracy: 0.9456\n",
      "Epoch 7/10\n",
      "54551/54551 [==============================] - 7s 122us/step - loss: 0.1571 - accuracy: 0.9443 - val_loss: 0.1486 - val_accuracy: 0.9462\n",
      "Epoch 8/10\n",
      "54551/54551 [==============================] - 6s 107us/step - loss: 0.1554 - accuracy: 0.9450 - val_loss: 0.1479 - val_accuracy: 0.9465\n",
      "Epoch 9/10\n",
      "54551/54551 [==============================] - 6s 108us/step - loss: 0.1538 - accuracy: 0.9454 - val_loss: 0.1474 - val_accuracy: 0.9466\n",
      "Epoch 10/10\n",
      "54551/54551 [==============================] - 6s 116us/step - loss: 0.1526 - accuracy: 0.9457 - val_loss: 0.1472 - val_accuracy: 0.9470\n"
     ]
    }
   ],
   "source": [
    "model_cnn = Sequential()\n",
    "model_cnn.add(Conv1D(128, 3, activation='relu', padding = 'valid', strides=1, input_shape=(40,20)))\n",
    "model_cnn.add(GlobalMaxPooling1D())\n",
    "model_cnn.add(Dense(64))\n",
    "model_cnn.add(Dropout(0.2))\n",
    "model_cnn.add(Activation('relu'))\n",
    "model_cnn.add(Dense(15, activation ='sigmoid'))\n",
    "\n",
    "model_cnn.compile(loss='binary_crossentropy', optimizer='adam', metrics=['accuracy'])\n",
    "\n",
    "history_cnn = model_cnn.fit(X_train_vec, y_train, epochs=10, batch_size=128,\n",
    "                        validation_data=(X_test_vec, y_test))"
   ]
  },
  {
   "cell_type": "markdown",
   "metadata": {
    "colab_type": "text",
    "id": "-WT4VeoWxlnZ"
   },
   "source": [
    "The RNN model performed well in terms of accuracy on the validation set. This is not surprising because the data was highly skewed towards one label (benign). The confusion matrix below shows that we have:\n",
    "\n",
    "false positive rate = 0.007\n",
    "\n",
    "true positive rate = 0.993\n",
    "\n",
    "true negative rate = 0.813\n",
    "\n",
    "false negative rate = 0.187\n",
    "\n",
    "The model still struggled with labeling malicious urls as benign.\n"
   ]
  },
  {
   "cell_type": "code",
   "execution_count": 27,
   "metadata": {
    "colab": {
     "base_uri": "https://localhost:8080/",
     "height": 173
    },
    "colab_type": "code",
    "id": "hgmPkzHsjGlF",
    "outputId": "96ac22e2-b1cf-4631-fcc2-56d2bba5798c"
   },
   "outputs": [],
   "source": [
    "# evaluate the model\n",
    "score_cnn = model_cnn.evaluate(X_test_vec, y_test, batch_size=64, verbose = 0)"
   ]
  },
  {
   "cell_type": "code",
   "execution_count": 29,
   "metadata": {
    "colab_type": "text",
    "id": "8Ny4shXtl01E"
   },
   "outputs": [
    {
     "name": "stdout",
     "output_type": "stream",
     "text": [
      "Train loss:  0.15258462122702948\n",
      "Train accuracy:  0.9457302\n",
      "Test loss:  0.14716374050755565\n",
      "Test accuracy:  0.9469528198242188\n"
     ]
    }
   ],
   "source": [
    "from sklearn import metrics\n",
    "import matplotlib.pyplot as plt\n",
    "\n",
    "print('Train loss: ', history_cnn.history['loss'][9]) \n",
    "print('Train accuracy: ', history_cnn.history['accuracy'][9])\n",
    "\n",
    "print('Test loss: ', score_cnn[0])\n",
    "print('Test accuracy: ', score_cnn[1])"
   ]
  },
  {
   "cell_type": "markdown",
   "metadata": {
    "colab": {},
    "colab_type": "code",
    "id": "2RmPYXoJfry0"
   },
   "source": [
    "### 3.3 RNN CNN Comparison"
   ]
  },
  {
   "cell_type": "code",
   "execution_count": 31,
   "metadata": {
    "colab_type": "text",
    "id": "uv4ctDM51ycM"
   },
   "outputs": [
    {
     "data": {
      "text/plain": [
       "Text(0.5, 1.0, 'Text Classification Accuracy RNN CNN Comparison')"
      ]
     },
     "execution_count": 31,
     "metadata": {},
     "output_type": "execute_result"
    },
    {
     "data": {
      "image/png": "[encoded data removed]",
      "text/plain": [
       "<Figure size 432x288 with 1 Axes>"
      ]
     },
     "metadata": {
      "needs_background": "light"
     },
     "output_type": "display_data"
    }
   ],
   "source": [
    "import matplotlib.pyplot as plt\n",
    "plt.plot(history.history['accuracy'], label='RNN train accuracy', color = 'r')\n",
    "plt.plot(history_cnn.history['accuracy'], label = 'CNN train accuracy', color = 'k')\n",
    "plt.xlabel('Epoch')\n",
    "plt.ylabel('Accuracy')\n",
    "plt.ylim([0.8, 1])\n",
    "plt.legend(loc='lower right')\n",
    "plt.title('Text Classification Accuracy RNN CNN Comparison')"
   ]
  },
  {
   "cell_type": "code",
   "execution_count": 32,
   "metadata": {
    "colab": {
     "base_uri": "https://localhost:8080/",
     "height": 374
    },
    "colab_type": "code",
    "id": "0NaXRXNel6tT",
    "outputId": "cc0929dd-fe5e-4a59-abc1-bf6b55df8165"
   },
   "outputs": [
    {
     "data": {
      "text/plain": [
       "Text(0.5, 1.0, 'Text Classification Loss RNN CNN Comparison')"
      ]
     },
     "execution_count": 32,
     "metadata": {},
     "output_type": "execute_result"
    },
    {
     "data": {
      "image/png": "[encoded data removed]",
      "text/plain": [
       "<Figure size 432x288 with 1 Axes>"
      ]
     },
     "metadata": {
      "needs_background": "light"
     },
     "output_type": "display_data"
    }
   ],
   "source": [
    "import matplotlib.pyplot as plt\n",
    "plt.plot(history.history['loss'], label='RNN train loss', color = 'r')\n",
    "plt.plot(history_cnn.history['loss'], label = 'CNN train loss', color = 'k')\n",
    "plt.xlabel('Epoch')\n",
    "plt.ylabel('Loss')\n",
    "plt.ylim([0, 0.5])\n",
    "plt.legend(loc='lower right')\n",
    "plt.title('Text Classification Loss RNN CNN Comparison')"
   ]
  },
  {
   "cell_type": "code",
   "execution_count": 35,
   "metadata": {},
   "outputs": [],
   "source": [
    "import cv2"
   ]
  },
  {
   "cell_type": "markdown",
   "metadata": {},
   "source": [
    "LSTM model converges much slower than CNN model. The ROC curve of the 15 labels indicates that CNN outperforms LSTM in most cases."
   ]
  },
  {
   "cell_type": "code",
   "execution_count": null,
   "metadata": {},
   "outputs": [],
   "source": []
  }
 ],
 "metadata": {
  "accelerator": "GPU",
  "colab": {
   "collapsed_sections": [],
   "name": "Schulz_HW2.ipynb",
   "provenance": [],
   "version": "0.3.2"
  },
  "kernelspec": {
   "display_name": "Python 3",
   "language": "python",
   "name": "python3"
  },
  "language_info": {
   "codemirror_mode": {
    "name": "ipython",
    "version": 3
   },
   "file_extension": ".py",
   "mimetype": "text/x-python",
   "name": "python",
   "nbconvert_exporter": "python",
   "pygments_lexer": "ipython3",
   "version": "3.6.8"
  }
 },
 "nbformat": 4,
 "nbformat_minor": 1
}
